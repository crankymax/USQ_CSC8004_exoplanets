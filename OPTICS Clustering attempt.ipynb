{
 "cells": [
  {
   "cell_type": "code",
   "execution_count": 11,
   "metadata": {},
   "outputs": [],
   "source": [
    "import pandas as pd\n",
    "import numpy as np\n",
    "\n",
    "from collections import Counter\n",
    "\n",
    "from sklearn.cluster import OPTICS\n",
    "from sklearn import metrics\n"
   ]
  },
  {
   "cell_type": "code",
   "execution_count": 12,
   "metadata": {},
   "outputs": [],
   "source": [
    "exoplanet_data = pd.read_pickle('exoplanet_cluster_input')"
   ]
  },
  {
   "cell_type": "code",
   "execution_count": 13,
   "metadata": {},
   "outputs": [],
   "source": [
    "db = OPTICS(min_samples=5, xi=.000001, min_cluster_size=.000005).fit(exoplanet_data)"
   ]
  },
  {
   "cell_type": "code",
   "execution_count": 14,
   "metadata": {},
   "outputs": [
    {
     "data": {
      "text/plain": [
       "Counter({0: 7,\n",
       "         4: 12,\n",
       "         32: 13,\n",
       "         -1: 344,\n",
       "         46: 8,\n",
       "         43: 8,\n",
       "         17: 12,\n",
       "         36: 5,\n",
       "         34: 5,\n",
       "         16: 9,\n",
       "         13: 6,\n",
       "         12: 8,\n",
       "         3: 13,\n",
       "         2: 4,\n",
       "         41: 4,\n",
       "         39: 7,\n",
       "         28: 9,\n",
       "         27: 6,\n",
       "         14: 10,\n",
       "         1: 7,\n",
       "         31: 6,\n",
       "         50: 9,\n",
       "         18: 7,\n",
       "         49: 7,\n",
       "         5: 6,\n",
       "         25: 6,\n",
       "         20: 5,\n",
       "         8: 10,\n",
       "         6: 8,\n",
       "         33: 11,\n",
       "         15: 7,\n",
       "         44: 2,\n",
       "         29: 4,\n",
       "         7: 5,\n",
       "         9: 6,\n",
       "         48: 4,\n",
       "         24: 6,\n",
       "         11: 5,\n",
       "         22: 5,\n",
       "         45: 10,\n",
       "         40: 6,\n",
       "         37: 5,\n",
       "         21: 4,\n",
       "         19: 4,\n",
       "         42: 4,\n",
       "         10: 4,\n",
       "         26: 5,\n",
       "         47: 4,\n",
       "         38: 3,\n",
       "         23: 4,\n",
       "         35: 5,\n",
       "         30: 2})"
      ]
     },
     "execution_count": 14,
     "metadata": {},
     "output_type": "execute_result"
    }
   ],
   "source": [
    "Counter(list(db.labels_))"
   ]
  },
  {
   "cell_type": "code",
   "execution_count": 6,
   "metadata": {},
   "outputs": [
    {
     "data": {
      "text/plain": [
       "-0.15570842297844545"
      ]
     },
     "execution_count": 6,
     "metadata": {},
     "output_type": "execute_result"
    }
   ],
   "source": [
    "metrics.silhouette_score(exoplanet_data, db.labels_, metric='euclidean')"
   ]
  }
 ],
 "metadata": {
  "kernelspec": {
   "display_name": "Python 3",
   "language": "python",
   "name": "python3"
  }
 },
 "nbformat": 4,
 "nbformat_minor": 2
}
