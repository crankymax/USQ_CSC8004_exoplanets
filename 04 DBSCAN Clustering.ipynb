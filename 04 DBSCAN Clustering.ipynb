{
 "cells": [
  {
   "cell_type": "markdown",
   "metadata": {},
   "source": [
    "# DBSCAN Clustering\n",
    "\n",
    "**Author: Brett Walker**\n",
    "\n",
    "**Student Number: u1118783**"
   ]
  },
  {
   "cell_type": "code",
   "execution_count": 1,
   "metadata": {},
   "outputs": [],
   "source": [
    "import pandas as pd\n",
    "import numpy as np\n",
    "\n",
    "from collections import Counter\n",
    "\n",
    "from sklearn.cluster import DBSCAN\n",
    "from sklearn import metrics\n"
   ]
  },
  {
   "cell_type": "code",
   "execution_count": 2,
   "metadata": {},
   "outputs": [],
   "source": [
    "exoplanet_data = pd.read_pickle('exoplanet_cluster_input')"
   ]
  },
  {
   "cell_type": "code",
   "execution_count": 3,
   "metadata": {},
   "outputs": [
    {
     "name": "stdout",
     "output_type": "stream",
     "text": [
      "CPU times: user 4.61 ms, sys: 1.13 ms, total: 5.74 ms\n",
      "Wall time: 4.36 ms\n",
      "       cluster_size\n",
      "count     20.000000\n",
      "mean      18.600000\n",
      "std       50.286966\n",
      "min        2.000000\n",
      "25%        2.000000\n",
      "50%        2.000000\n",
      "75%        2.250000\n",
      "max      172.000000\n"
     ]
    },
    {
     "data": {
      "image/png": "[encoded data removed]",
      "text/plain": [
       "<Figure size 432x288 with 1 Axes>"
      ]
     },
     "metadata": {
      "needs_background": "light"
     },
     "output_type": "display_data"
    }
   ],
   "source": [
    "%time db = DBSCAN(eps=0.195, min_samples=2).fit(exoplanet_data)\n",
    "label_counts = dict(sorted(Counter(db.labels_).items()))\n",
    "cluster_stats = pd.DataFrame(label_counts.values(), index=label_counts.keys(),columns=['cluster_size'])\n",
    "print(cluster_stats.describe())\n",
    "ax = cluster_stats.plot.bar()"
   ]
  },
  {
   "cell_type": "code",
   "execution_count": 4,
   "metadata": {},
   "outputs": [
    {
     "name": "stdout",
     "output_type": "stream",
     "text": [
      "Silhouette score -0.1774916699561812\n",
      "Calinski Harabasz score 5.975558819641874\n"
     ]
    }
   ],
   "source": [
    "print(f'Silhouette score {metrics.silhouette_score(exoplanet_data, db.labels_, metric=\"euclidean\")}')\n",
    "print(f'Calinski Harabasz score {metrics.calinski_harabasz_score(exoplanet_data, db.labels_)}')\n"
   ]
  },
  {
   "cell_type": "code",
   "execution_count": null,
   "metadata": {},
   "outputs": [],
   "source": []
  }
 ],
 "metadata": {
  "kernelspec": {
   "display_name": "Python 3",
   "language": "python",
   "name": "python3"
  },
  "language_info": {
   "codemirror_mode": {
    "name": "ipython",
    "version": 3
   },
   "file_extension": ".py",
   "mimetype": "text/x-python",
   "name": "python",
   "nbconvert_exporter": "python",
   "pygments_lexer": "ipython3",
   "version": "3.7.7"
  }
 },
 "nbformat": 4,
 "nbformat_minor": 2
}
