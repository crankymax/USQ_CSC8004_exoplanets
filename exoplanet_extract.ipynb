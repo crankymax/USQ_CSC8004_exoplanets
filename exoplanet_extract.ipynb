{
 "cells": [
  {
   "cell_type": "markdown",
   "metadata": {},
   "source": [
    "# Exoplanet Archive extract\n",
    "In this notebook I extract the latest list of exoplanet data from the NASA Exoplanet Archive at catltech.edu\n",
    "Then we save it as a pickle file."
   ]
  },
  {
   "cell_type": "code",
   "execution_count": 22,
   "metadata": {},
   "outputs": [],
   "source": [
    "import requests\n",
    "import pandas as pd\n",
    "import matplotlib.pyplot as plt\n",
    "import math\n",
    "\n",
    "pd.set_option('precision', 2)"
   ]
  },
  {
   "cell_type": "code",
   "execution_count": 8,
   "metadata": {},
   "outputs": [],
   "source": [
    "column_list = ['mpl_hostname','mpl_letter','mst_metratio','mpl_discmethod','mpl_pnum','mpl_orbper','mpl_orbsmax','mpl_orbeccen',\n",
    "               'mpl_orbincl','mpl_bmassj','mpl_radj','mpl_dens','mpl_eqt','mpl_insol',\n",
    "               'mst_teff','mst_mass','mst_rad','mst_age','mst_lum','mpl_status']\n"
   ]
  },
  {
   "cell_type": "code",
   "execution_count": 3,
   "metadata": {},
   "outputs": [],
   "source": [
    "exo_params_url = \"https://exoplanetarchive.ipac.caltech.edu/cgi-bin/nstedAPI/nph-nstedAPI\"\n",
    "\n",
    "ep_params = {\"table\": \"exomultpars\", \"format\": \"json\", \"columns\": (',').join(column_list)}"
   ]
  },
  {
   "cell_type": "code",
   "execution_count": 4,
   "metadata": {},
   "outputs": [],
   "source": [
    "r = requests.get(url=exo_params_url, params=ep_params, headers={})\n",
    "\n",
    "exoplanet_extract = pd.DataFrame(r.json())"
   ]
  },
  {
   "cell_type": "code",
   "execution_count": 50,
   "metadata": {},
   "outputs": [],
   "source": [
    "exoplanet_extract.to_pickle('current_exo_ext')"
   ]
  },
  {
   "cell_type": "code",
   "execution_count": null,
   "metadata": {},
   "outputs": [],
   "source": []
  }
 ],
 "metadata": {
  "kernelspec": {
   "display_name": "Python 3",
   "language": "python",
   "name": "python3"
  },
  "language_info": {
   "codemirror_mode": {
    "name": "ipython",
    "version": 3
   },
   "file_extension": ".py",
   "mimetype": "text/x-python",
   "name": "python",
   "nbconvert_exporter": "python",
   "pygments_lexer": "ipython3",
   "version": "3.7.2"
  }
 },
 "nbformat": 4,
 "nbformat_minor": 2
}
